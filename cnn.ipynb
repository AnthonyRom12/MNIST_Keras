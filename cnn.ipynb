{
  "nbformat": 4,
  "nbformat_minor": 0,
  "metadata": {
    "colab": {
      "provenance": [],
      "authorship_tag": "ABX9TyOOf+rjXldV9POTdgj35kUP",
      "include_colab_link": true
    },
    "kernelspec": {
      "name": "python3",
      "display_name": "Python 3"
    },
    "language_info": {
      "name": "python"
    }
  },
  "cells": [
    {
      "cell_type": "markdown",
      "metadata": {
        "id": "view-in-github",
        "colab_type": "text"
      },
      "source": [
        "<a href=\"https://colab.research.google.com/github/AnthonyRom12/MNIST_Keras/blob/main/cnn.ipynb\" target=\"_parent\"><img src=\"https://colab.research.google.com/assets/colab-badge.svg\" alt=\"Open In Colab\"/></a>"
      ]
    },
    {
      "cell_type": "markdown",
      "source": [
        "# ** Supervised Training **\n",
        "**CNN **"
      ],
      "metadata": {
        "id": "BbMrTlIiEHlV"
      }
    },
    {
      "cell_type": "markdown",
      "source": [
        "## Loading data"
      ],
      "metadata": {
        "id": "9xQY6-weFJVQ"
      }
    },
    {
      "cell_type": "code",
      "source": [
        "from keras.datasets import mnist\n",
        "\n",
        "(training_dataset_x, training_dataset_y), (test_dataset_x, test_dataset_y) = mnist.load_data()\n",
        "\n",
        "training_dataset_x = training_dataset_x.reshape(-1, 28, 28, 1)\n",
        "test_dataset_x = test_dataset_x.reshape(-1, 28, 28, 1)\n",
        "\n",
        "training_dataset_x = training_dataset_x.astype('float32')\n",
        "test_dataset_x = test_dataset_x.astype('float32')"
      ],
      "metadata": {
        "id": "wW6nXlWgEXDu"
      },
      "execution_count": 4,
      "outputs": []
    },
    {
      "cell_type": "markdown",
      "source": [
        "## Min-Max Scaler"
      ],
      "metadata": {
        "id": "HbgILU8FFNgX"
      }
    },
    {
      "cell_type": "code",
      "source": [
        "training_dataset_x /= 255\n",
        "test_dataset_x /= 255"
      ],
      "metadata": {
        "id": "7Ns4aXuaFSBW"
      },
      "execution_count": 5,
      "outputs": []
    },
    {
      "cell_type": "markdown",
      "source": [
        "## One-Hot Encoding\n"
      ],
      "metadata": {
        "id": "ElM--MKsFYYZ"
      }
    },
    {
      "cell_type": "code",
      "source": [
        "from keras.utils import to_categorical\n",
        "\n",
        "training_dataset_y = to_categorical(training_dataset_y)\n",
        "test_dataset_y = to_categorical(test_dataset_y)\n"
      ],
      "metadata": {
        "id": "A51sX2DgFcJy"
      },
      "execution_count": 6,
      "outputs": []
    },
    {
      "cell_type": "markdown",
      "source": [
        "## Model"
      ],
      "metadata": {
        "id": "9ByIZHWLGRz8"
      }
    },
    {
      "cell_type": "code",
      "source": [
        "from keras.models import Sequential\n",
        "from keras.layers import Conv2D, Dense, Flatten, MaxPooling2D\n",
        "\n",
        "model = Sequential()\n",
        "model.add(Conv2D(32, kernel_size=(3, 3), input_shape=(28, 28, 1), activation='relu', name='Convolution-1'))\n",
        "model.add(MaxPooling2D(name='MaxPooling2D-1'))\n",
        "model.add(Conv2D(64, kernel_size=(3, 3), activation='relu', name='Convolution-2'))\n",
        "model.add(MaxPooling2D(name='MaxPooling2D-2'))\n",
        "model.add(Flatten())\n",
        "model.add(Dense(128, activation='relu', name='Hidden-1'))\n",
        "model.add(Dense(128, activation='relu', name='Hidden-2'))\n",
        "model.add(Dense(10, activation='softmax', name='Output'))\n",
        "\n",
        "model.summary()\n"
      ],
      "metadata": {
        "colab": {
          "base_uri": "https://localhost:8080/"
        },
        "id": "hbiX_bSNGTtC",
        "outputId": "37bc453b-e08d-4507-a191-285283417e35"
      },
      "execution_count": 7,
      "outputs": [
        {
          "output_type": "stream",
          "name": "stdout",
          "text": [
            "Model: \"sequential\"\n",
            "_________________________________________________________________\n",
            " Layer (type)                Output Shape              Param #   \n",
            "=================================================================\n",
            " Convolution-1 (Conv2D)      (None, 26, 26, 32)        320       \n",
            "                                                                 \n",
            " MaxPooling2D-1 (MaxPooling  (None, 13, 13, 32)        0         \n",
            " 2D)                                                             \n",
            "                                                                 \n",
            " Convolution-2 (Conv2D)      (None, 11, 11, 64)        18496     \n",
            "                                                                 \n",
            " MaxPooling2D-2 (MaxPooling  (None, 5, 5, 64)          0         \n",
            " 2D)                                                             \n",
            "                                                                 \n",
            " flatten (Flatten)           (None, 1600)              0         \n",
            "                                                                 \n",
            " Hidden-1 (Dense)            (None, 128)               204928    \n",
            "                                                                 \n",
            " Hidden-2 (Dense)            (None, 128)               16512     \n",
            "                                                                 \n",
            " Output (Dense)              (None, 10)                1290      \n",
            "                                                                 \n",
            "=================================================================\n",
            "Total params: 241546 (943.54 KB)\n",
            "Trainable params: 241546 (943.54 KB)\n",
            "Non-trainable params: 0 (0.00 Byte)\n",
            "_________________________________________________________________\n"
          ]
        }
      ]
    },
    {
      "cell_type": "markdown",
      "source": [
        "## Training"
      ],
      "metadata": {
        "id": "LreiBHEgIGko"
      }
    },
    {
      "cell_type": "code",
      "source": [
        "EPOCHS = 5\n",
        "BATCH_SIZE = 64\n",
        "model.compile(optimizer='adam', loss='categorical_crossentropy', metrics=['accuracy'])\n",
        "%time hist = model.fit(training_dataset_x, training_dataset_y, epochs=EPOCHS, batch_size=BATCH_SIZE, validation_split= 0.2)\n"
      ],
      "metadata": {
        "colab": {
          "base_uri": "https://localhost:8080/"
        },
        "id": "O_hJGXAYIIgF",
        "outputId": "4d806b8a-3b21-4405-e5c9-30763298a768"
      },
      "execution_count": 8,
      "outputs": [
        {
          "output_type": "stream",
          "name": "stdout",
          "text": [
            "Epoch 1/5\n",
            "750/750 [==============================] - 45s 58ms/step - loss: 0.2004 - accuracy: 0.9387 - val_loss: 0.0709 - val_accuracy: 0.9790\n",
            "Epoch 2/5\n",
            "750/750 [==============================] - 62s 83ms/step - loss: 0.0542 - accuracy: 0.9832 - val_loss: 0.0506 - val_accuracy: 0.9845\n",
            "Epoch 3/5\n",
            "750/750 [==============================] - 52s 70ms/step - loss: 0.0383 - accuracy: 0.9876 - val_loss: 0.0479 - val_accuracy: 0.9852\n",
            "Epoch 4/5\n",
            "750/750 [==============================] - 44s 59ms/step - loss: 0.0276 - accuracy: 0.9912 - val_loss: 0.0400 - val_accuracy: 0.9887\n",
            "Epoch 5/5\n",
            "750/750 [==============================] - 43s 57ms/step - loss: 0.0213 - accuracy: 0.9932 - val_loss: 0.0483 - val_accuracy: 0.9872\n",
            "CPU times: user 5min 19s, sys: 5.9 s, total: 5min 25s\n",
            "Wall time: 4min 23s\n"
          ]
        }
      ]
    },
    {
      "cell_type": "markdown",
      "source": [
        "## Evalution"
      ],
      "metadata": {
        "id": "pqWpqrzmJRu7"
      }
    },
    {
      "cell_type": "code",
      "source": [
        "loss, accuracy = model.evaluate(test_dataset_x, test_dataset_y)\n",
        "print('loss = {}, accuracy = {}'.format(loss, accuracy))"
      ],
      "metadata": {
        "colab": {
          "base_uri": "https://localhost:8080/"
        },
        "id": "1w_GvB23JTwM",
        "outputId": "892b514b-6954-4c4b-a459-bceacd3e5205"
      },
      "execution_count": 9,
      "outputs": [
        {
          "output_type": "stream",
          "name": "stdout",
          "text": [
            "313/313 [==============================] - 3s 9ms/step - loss: 0.0436 - accuracy: 0.9862\n",
            "loss = 0.043602291494607925, accuracy = 0.9861999750137329\n"
          ]
        }
      ]
    },
    {
      "cell_type": "markdown",
      "source": [
        "## Visualization"
      ],
      "metadata": {
        "id": "8h6dkg2UKWwn"
      }
    },
    {
      "cell_type": "code",
      "source": [
        "import matplotlib.pyplot as plt\n",
        "\n",
        "plt.title('Epoch-Accuracy Graph')\n",
        "plt.xlabel = 'Epochs'\n",
        "plt.ylabel = 'Loss'\n",
        "plt.plot(range(1, len(hist.epoch) + 1), hist.history['accuracy'])\n",
        "plt.plot(range(1, len(hist.epoch) + 1), hist.history['val_accuracy'])\n",
        "plt.legend(['accuracy', 'val_accuracy'])\n",
        "plt.show()"
      ],
      "metadata": {
        "colab": {
          "base_uri": "https://localhost:8080/",
          "height": 452
        },
        "id": "8VrLcTTcKZg5",
        "outputId": "52a756bd-42c2-42b6-e7aa-4abb82f3a9e8"
      },
      "execution_count": 10,
      "outputs": [
        {
          "output_type": "display_data",
          "data": {
            "text/plain": [
              "<Figure size 640x480 with 1 Axes>"
            ],
            "image/png": "[encoded data removed]"
          },
          "metadata": {}
        }
      ]
    }
  ]
}